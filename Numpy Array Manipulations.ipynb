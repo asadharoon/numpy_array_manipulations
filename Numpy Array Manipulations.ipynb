{
 "cells": [
  {
   "cell_type": "markdown",
   "metadata": {},
   "source": [
    "<h1 align=\"center\">Name: Asad Haroon</h1>"
   ]
  },
  {
   "cell_type": "markdown",
   "metadata": {},
   "source": [
    "<h1 align=\"center\">Numpy Tutorials</h1>"
   ]
  },
  {
   "cell_type": "markdown",
   "metadata": {},
   "source": [
    "<ul><li>It is fast and require less space as compared to Python Lists.</li>\n",
    "    <li>It is written in C language.</li>\n",
    "    <li>It is used to do mathematical operations like Linear Algebra.</li>\n",
    "    <li>It is used to do many operations on Array.</li><li> It provides a high-performance multidimensional array object</li></ul>"
   ]
  },
  {
   "cell_type": "markdown",
   "metadata": {},
   "source": [
    "<h3>Functions:</h3>\n",
    "<ul>\n",
    "    <li><b>arange():</b> It works like range function. And it will create an array from 0 value to inputted value.</li>\n",
    "    <li><b>ones():</b>It will create an matrix of all ones of specific dimension.</li>\n",
    "    <li><b>repeat(array,x):</b>It will repeat the elements of array each x times.</li>\n",
    "    <li><b>tile(array,x):</b>It will repeat the whole array x times.</li>\n",
    "     <li><b>zeros():</b> It will create an array of all zeros of specific dimension.</li>\n",
    "    <li><b>shape():</b>It will return the order of the matrix.</li>\n",
    "    <li><b>full():</b>It will make an matrix of all input value in specific order.</li>\n",
    "    <li><b>sum(axis):</b>It will sum up col-wise elements of matrix if <b>axis=0. else if axis=1,</b> then it will sum up row-wise elements.</li>\n",
    "    <li><b>where(condition):</b>It will tell the location of elements of given condition.</li>\n",
    "    </ul>"
   ]
  },
  {
   "cell_type": "code",
   "execution_count": 1,
   "metadata": {},
   "outputs": [],
   "source": [
    "import numpy as np"
   ]
  },
  {
   "cell_type": "code",
   "execution_count": 2,
   "metadata": {},
   "outputs": [
    {
     "name": "stdout",
     "output_type": "stream",
     "text": [
      "Array of range till 10: [0 1 2 3 4 5 6 7 8 9]\n",
      "Array of arrange function [10:25,5] is [10 15 20 25 30 35 40 45]\n",
      "\n",
      "Array of 2x3 of ones: [[1 1 1]\n",
      " [1 1 1]]\n",
      "The contents of repeating arr,3 are [1 1 1 2 2 2 3 3 3]\n",
      "The contents of tile a,4 are [1 2 3 1 2 3 1 2 3 1 2 3]\n"
     ]
    }
   ],
   "source": [
    "\n",
    "#arange function():\n",
    "\n",
    "#Example1 arange()\n",
    "arr=np.arange(10)\n",
    "print(\"Array of range till 10: {}\".format(arr))\n",
    "#Example2 arange()\n",
    "arr3=np.arange(10,50,5) # it will create an array of value starting from 10 and ending at 25 with step-iteration of 5.\n",
    "#Syntax of arange is arange(start=10,stop=50,step=5)\n",
    "print(\"Array of arrange function [10:25,5] is {}\".format(arr3))\n",
    "\n",
    "#ones function():\n",
    "arr2=np.ones((2,3),dtype=int)\n",
    "print(\"\\nArray of 2x3 of ones: {}\".format(arr2))\n",
    "\n",
    "#repeat function():\n",
    "arr=np.array([1,2,3])\n",
    "arr=np.repeat(arr,3)\n",
    "print(\"The contents of repeating arr,3 are {}\".format(arr))\n",
    "\n",
    "#tile function():\n",
    "a=np.array([1,2,3])\n",
    "arr=np.tile(a,4)\n",
    "print(\"The contents of tile a,4 are {}\".format(arr))"
   ]
  },
  {
   "cell_type": "code",
   "execution_count": 3,
   "metadata": {},
   "outputs": [
    {
     "name": "stdout",
     "output_type": "stream",
     "text": [
      "Array of 2x2 of all zeros is [[0 0]\n",
      " [0 0]]\n",
      "\n",
      "rows are 3 and cols are 4\n",
      "\n",
      "Matrix full with 10 is [[10 10 10 10]\n",
      " [10 10 10 10]\n",
      " [10 10 10 10]]\n",
      "Contents of arr1 is [[1 2 3]\n",
      " [4 5 6]]\n",
      "\n",
      "Sum of arr1 on axis=0 is [5 7 9]\n",
      "Sum of arr1 on axis=1 is [ 6 15]\n",
      "The locations of arr>10 are (array([3, 4], dtype=int64),)\n"
     ]
    }
   ],
   "source": [
    "\n",
    "#zeros function():\n",
    "zero=np.zeros((2,2),dtype=int)\n",
    "print(\"Array of 2x2 of all zeros is {}\\n\".format(zero))\n",
    "\n",
    "#shape function():\n",
    "arr=np.zeros((3,4))\n",
    "row,col=np.shape(arr) # shape function return tuple of order of matrix which is (rows,cols)\n",
    "print(\"rows are {} and cols are {}\\n\".format(row,col))\n",
    "\n",
    "#full function():\n",
    "arrfull=np.full((3,4),10) # it will create an matrix of all values 10 with dimension of 3x4.\n",
    "print(\"Matrix full with 10 is {}\".format(arrfull))\n",
    "#axis function():\n",
    "arr1=np.array(([1,2,3],[4,5,6]))\n",
    "print(\"Contents of arr1 is {}\\n\".format(arr1))\n",
    "a=arr1.sum(axis=0)\n",
    "print(\"Sum of arr1 on axis=0 is {}\".format(a))\n",
    "a=arr1.sum(axis=1)\n",
    "print(\"Sum of arr1 on axis=1 is {}\".format(a))\n",
    "\n",
    "#where function():\n",
    "arr=np.array([1,2,10,22,21])\n",
    "a=np.where(arr>10)\n",
    "print(\"The locations of arr>10 are {}\".format(a))"
   ]
  },
  {
   "cell_type": "markdown",
   "metadata": {},
   "source": [
    "# Apply Function on Array"
   ]
  },
  {
   "cell_type": "code",
   "execution_count": 4,
   "metadata": {
    "scrolled": true
   },
   "outputs": [
    {
     "name": "stdout",
     "output_type": "stream",
     "text": [
      "Original array:\n",
      " [[ 0  0  0  1]\n",
      " [ 0 -1  1  1]\n",
      " [ 2  3  4  5]\n",
      " [ 6  8 -1  0]]\n",
      "Output Array:\n",
      " [[100 100 100  -1]\n",
      " [100 100  -1  -1]\n",
      " [ -1  -1  -1  -1]\n",
      " [ -1  -1 100 100]]\n"
     ]
    }
   ],
   "source": [
    "def f(x):\n",
    "    if x>=1:\n",
    "        return -1\n",
    "    return 100\n",
    "\n",
    "x=np.array([0,0,0,1,0,-1,1,1,2,3,4,5,6,8,-1,0]).reshape(4,4)\n",
    "print(\"Original array:\\n\",x)\n",
    "func=np.vectorize(f)\n",
    "\n",
    "output_arr=func(x)\n",
    "print(\"Output Array:\\n\",output_arr)"
   ]
  },
  {
   "cell_type": "markdown",
   "metadata": {},
   "source": [
    "# Method to change values without Function"
   ]
  },
  {
   "cell_type": "code",
   "execution_count": 5,
   "metadata": {},
   "outputs": [],
   "source": [
    "output_arr[output_arr>=1]=2000"
   ]
  },
  {
   "cell_type": "code",
   "execution_count": 6,
   "metadata": {},
   "outputs": [
    {
     "data": {
      "text/plain": [
       "array([[2000, 2000, 2000,   -1],\n",
       "       [2000, 2000,   -1,   -1],\n",
       "       [  -1,   -1,   -1,   -1],\n",
       "       [  -1,   -1, 2000, 2000]])"
      ]
     },
     "execution_count": 6,
     "metadata": {},
     "output_type": "execute_result"
    }
   ],
   "source": [
    "output_arr"
   ]
  },
  {
   "cell_type": "code",
   "execution_count": 7,
   "metadata": {},
   "outputs": [
    {
     "name": "stdout",
     "output_type": "stream",
     "text": [
      "Unique values found in array are \n",
      " [  -1 2000]\n",
      "Dictionary of prev,new values are\n",
      " {-1: 0, 2000: 1}\n",
      "Before:\n",
      " [[2000 2000 2000   -1]\n",
      " [2000 2000   -1   -1]\n",
      " [  -1   -1   -1   -1]\n",
      " [  -1   -1 2000 2000]]\n",
      "Now Values in array are\n",
      " [[1 1 1 0]\n",
      " [1 1 0 0]\n",
      " [0 0 0 0]\n",
      " [0 0 1 1]]\n"
     ]
    }
   ],
   "source": [
    "newvalues=[0,1,2]\n",
    "values,counts=np.unique(output_arr, return_counts=True)\n",
    "print(\"Unique values found in array are \\n\",values)\n",
    "d=dict(zip(values,newvalues))\n",
    "print(\"Dictionary of prev,new values are\\n\",d)\n",
    "# now changing values of numpy array with dictionary\n",
    "newarray=np.vectorize(d.get)(output_arr)\n",
    "print(\"Before:\\n\",output_arr)\n",
    "print(\"Now Values in array are\\n\",newarray)"
   ]
  },
  {
   "cell_type": "code",
   "execution_count": null,
   "metadata": {},
   "outputs": [],
   "source": []
  }
 ],
 "metadata": {
  "kernelspec": {
   "display_name": "Python 3",
   "language": "python",
   "name": "python3"
  },
  "language_info": {
   "codemirror_mode": {
    "name": "ipython",
    "version": 3
   },
   "file_extension": ".py",
   "mimetype": "text/x-python",
   "name": "python",
   "nbconvert_exporter": "python",
   "pygments_lexer": "ipython3",
   "version": "3.7.6"
  }
 },
 "nbformat": 4,
 "nbformat_minor": 4
}
